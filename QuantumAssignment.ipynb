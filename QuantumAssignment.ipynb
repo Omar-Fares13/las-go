{
 "cells": [
  {
   "cell_type": "code",
   "execution_count": 3,
   "id": "2f5ce89a-aff4-4585-bdb1-b5b0caca1aea",
   "metadata": {},
   "outputs": [],
   "source": [
    "# Programming Drill (1)\n",
    "import numpy as np\n",
    "\n",
    "def inner_product(vector1, vector2):\n",
    "    return np.vdot(vector1, vector2)\n"
   ]
  },
  {
   "cell_type": "code",
   "execution_count": 5,
   "id": "b1c75e34-7719-47a4-a1fc-f355a5fb41c3",
   "metadata": {},
   "outputs": [],
   "source": [
    "# Programming Drill (2)\n",
    "def vector_norm(vector):\n",
    "    return np.linalg.norm(vector)\n"
   ]
  },
  {
   "cell_type": "code",
   "execution_count": 7,
   "id": "bc83ea1c-8643-44cc-803b-e38fd9fb43f5",
   "metadata": {},
   "outputs": [],
   "source": [
    "# Programming Drill (3)\n",
    "def vector_distance(vector1, vector2):\n",
    "    difference = vector1 - vector2\n",
    "    return np.linalg.norm(difference)\n"
   ]
  },
  {
   "cell_type": "code",
   "execution_count": 9,
   "id": "26158b8c-ed35-451c-9226-4179e859102d",
   "metadata": {},
   "outputs": [],
   "source": [
    "# Programming Drill (4)\n",
    "def is_hermitian(matrix):\n",
    "    if matrix.shape[0] != matrix.shape[1]:\n",
    "        raise ValueError(\"Matrix must be square.\")\n",
    "    \n",
    "    return np.allclose(matrix, matrix.conj().T)\n"
   ]
  },
  {
   "cell_type": "code",
   "execution_count": 11,
   "id": "bb373265-69f5-48ec-bf68-524052b3e2cc",
   "metadata": {},
   "outputs": [
    {
     "name": "stdout",
     "output_type": "stream",
     "text": [
      "Inner Product: (70-8j)\n",
      "Norm of v1: 5.477225575051661\n",
      "Distance between v1 and v2: 8.0\n",
      "Is the matrix Hermitian? True\n"
     ]
    }
   ],
   "source": [
    "\n",
    "v1 = np.array([1+2j, 3+4j])\n",
    "v2 = np.array([5+6j, 7+8j])\n",
    "\n",
    "print(\"Inner Product:\", inner_product(v1, v2))\n",
    "print(\"Norm of v1:\", vector_norm(v1))\n",
    "print(\"Distance between v1 and v2:\", vector_distance(v1, v2))\n",
    "\n",
    "matrix = np.array([[2+0j, 1-1j], [1+1j, 3+0j]])\n",
    "print(\"Is the matrix Hermitian?\", is_hermitian(matrix))"
   ]
  },
  {
   "cell_type": "code",
   "execution_count": null,
   "id": "66e70cac-66e2-47de-bfd3-24f34ccbfa1c",
   "metadata": {},
   "outputs": [],
   "source": []
  }
 ],
 "metadata": {
  "kernelspec": {
   "display_name": "Python 3 (ipykernel)",
   "language": "python",
   "name": "python3"
  },
  "language_info": {
   "codemirror_mode": {
    "name": "ipython",
    "version": 3
   },
   "file_extension": ".py",
   "mimetype": "text/x-python",
   "name": "python",
   "nbconvert_exporter": "python",
   "pygments_lexer": "ipython3",
   "version": "3.12.7"
  }
 },
 "nbformat": 4,
 "nbformat_minor": 5
}
